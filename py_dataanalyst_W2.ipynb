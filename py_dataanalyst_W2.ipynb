{
 "cells": [
  {
   "cell_type": "markdown",
   "id": "97141a8c",
   "metadata": {},
   "source": [
    "Read online_bl.csv from data_input folder to answer question 1-3. You may find it helpful to use parse_dates=[__] while calling the read_csv() function. The data are all items listed for sale on the popular e-commerce website bukalapak.com within a specific set of categories.\n",
    "\n",
    "#1. How many unique sub categories are there in online_bl dataset? Do we have more \"detergent\" listings or \"sugar\" listings within our data?"
   ]
  },
  {
   "cell_type": "code",
   "execution_count": 106,
   "id": "d1814267",
   "metadata": {},
   "outputs": [],
   "source": [
    "import pandas as pd\n",
    "df_online = pd.read_csv(\"data_input/online_bl.csv\", parse_dates=['time_update'])"
   ]
  },
  {
   "cell_type": "code",
   "execution_count": 107,
   "id": "79b4def4",
   "metadata": {},
   "outputs": [
    {
     "data": {
      "text/plain": [
       "3"
      ]
     },
     "execution_count": 107,
     "metadata": {},
     "output_type": "execute_result"
    }
   ],
   "source": [
    "df_online['sub_category'].nunique()"
   ]
  },
  {
   "cell_type": "code",
   "execution_count": 108,
   "id": "82004731",
   "metadata": {},
   "outputs": [
    {
     "data": {
      "text/html": [
       "<div>\n",
       "<style scoped>\n",
       "    .dataframe tbody tr th:only-of-type {\n",
       "        vertical-align: middle;\n",
       "    }\n",
       "\n",
       "    .dataframe tbody tr th {\n",
       "        vertical-align: top;\n",
       "    }\n",
       "\n",
       "    .dataframe thead th {\n",
       "        text-align: right;\n",
       "    }\n",
       "</style>\n",
       "<table border=\"1\" class=\"dataframe\">\n",
       "  <thead>\n",
       "    <tr style=\"text-align: right;\">\n",
       "      <th>col_0</th>\n",
       "      <th>count</th>\n",
       "    </tr>\n",
       "    <tr>\n",
       "      <th>sub_category</th>\n",
       "      <th></th>\n",
       "    </tr>\n",
       "  </thead>\n",
       "  <tbody>\n",
       "    <tr>\n",
       "      <th>detergent</th>\n",
       "      <td>106</td>\n",
       "    </tr>\n",
       "    <tr>\n",
       "      <th>rice</th>\n",
       "      <td>425</td>\n",
       "    </tr>\n",
       "    <tr>\n",
       "      <th>sugar</th>\n",
       "      <td>213</td>\n",
       "    </tr>\n",
       "  </tbody>\n",
       "</table>\n",
       "</div>"
      ],
      "text/plain": [
       "col_0         count\n",
       "sub_category       \n",
       "detergent       106\n",
       "rice            425\n",
       "sugar           213"
      ]
     },
     "execution_count": 108,
     "metadata": {},
     "output_type": "execute_result"
    }
   ],
   "source": [
    "pd.crosstab(index=df_online['sub_category'], \n",
    "            columns='count', \n",
    "            values=df_online['sub_category'],\n",
    "            aggfunc='count')"
   ]
  },
  {
   "cell_type": "markdown",
   "id": "01ffa498",
   "metadata": {},
   "source": [
    "#2. In which scale do we have our detergent stock the most?"
   ]
  },
  {
   "cell_type": "code",
   "execution_count": 109,
   "id": "3a0a77e9",
   "metadata": {},
   "outputs": [
    {
     "data": {
      "text/html": [
       "<div>\n",
       "<style scoped>\n",
       "    .dataframe tbody tr th:only-of-type {\n",
       "        vertical-align: middle;\n",
       "    }\n",
       "\n",
       "    .dataframe tbody tr th {\n",
       "        vertical-align: top;\n",
       "    }\n",
       "\n",
       "    .dataframe thead th {\n",
       "        text-align: right;\n",
       "    }\n",
       "</style>\n",
       "<table border=\"1\" class=\"dataframe\">\n",
       "  <thead>\n",
       "    <tr style=\"text-align: right;\">\n",
       "      <th>col_0</th>\n",
       "      <th>countotal</th>\n",
       "    </tr>\n",
       "    <tr>\n",
       "      <th>scale</th>\n",
       "      <th></th>\n",
       "    </tr>\n",
       "  </thead>\n",
       "  <tbody>\n",
       "    <tr>\n",
       "      <th>1.8 kg</th>\n",
       "      <td>88</td>\n",
       "    </tr>\n",
       "  </tbody>\n",
       "</table>\n",
       "</div>"
      ],
      "text/plain": [
       "col_0   countotal\n",
       "scale            \n",
       "1.8 kg         88"
      ]
     },
     "execution_count": 109,
     "metadata": {},
     "output_type": "execute_result"
    }
   ],
   "source": [
    "df_detergent = df_online[(df_online['sub_category']=='detergent')]\n",
    "pd.crosstab(index=df_detergent['scale'], \n",
    "            columns='countotal', \n",
    "            values=df_detergent['scale'], \n",
    "            aggfunc='count').sort_values(by='countotal', ascending=False).head(1)\n"
   ]
  },
  {
   "cell_type": "markdown",
   "id": "4a58bd4b",
   "metadata": {},
   "source": [
    "#3. Which month has the lowest average price (mean on price_original) for detergent products (1.8kg and 800gr respectively) listed for sale on Bukalapak? Are they the same month?"
   ]
  },
  {
   "cell_type": "code",
   "execution_count": 110,
   "id": "1f455828",
   "metadata": {},
   "outputs": [
    {
     "data": {
      "text/html": [
       "<div>\n",
       "<style scoped>\n",
       "    .dataframe tbody tr th:only-of-type {\n",
       "        vertical-align: middle;\n",
       "    }\n",
       "\n",
       "    .dataframe tbody tr th {\n",
       "        vertical-align: top;\n",
       "    }\n",
       "\n",
       "    .dataframe thead tr th {\n",
       "        text-align: left;\n",
       "    }\n",
       "\n",
       "    .dataframe thead tr:last-of-type th {\n",
       "        text-align: right;\n",
       "    }\n",
       "</style>\n",
       "<table border=\"1\" class=\"dataframe\">\n",
       "  <thead>\n",
       "    <tr>\n",
       "      <th>sub_category</th>\n",
       "      <th colspan=\"2\" halign=\"left\">detergent</th>\n",
       "    </tr>\n",
       "    <tr>\n",
       "      <th>scale</th>\n",
       "      <th>1.8 kg</th>\n",
       "      <th>800 gr</th>\n",
       "    </tr>\n",
       "    <tr>\n",
       "      <th>time_update</th>\n",
       "      <th></th>\n",
       "      <th></th>\n",
       "    </tr>\n",
       "  </thead>\n",
       "  <tbody>\n",
       "    <tr>\n",
       "      <th>2018-07</th>\n",
       "      <td>40000.000000</td>\n",
       "      <td>30000.000000</td>\n",
       "    </tr>\n",
       "    <tr>\n",
       "      <th>2018-08</th>\n",
       "      <td>31000.000000</td>\n",
       "      <td>20000.000000</td>\n",
       "    </tr>\n",
       "    <tr>\n",
       "      <th>2018-09</th>\n",
       "      <td>42750.000000</td>\n",
       "      <td>33475.000000</td>\n",
       "    </tr>\n",
       "    <tr>\n",
       "      <th>2018-10</th>\n",
       "      <td>41191.836735</td>\n",
       "      <td>21945.454545</td>\n",
       "    </tr>\n",
       "  </tbody>\n",
       "</table>\n",
       "</div>"
      ],
      "text/plain": [
       "sub_category     detergent              \n",
       "scale               1.8 kg        800 gr\n",
       "time_update                             \n",
       "2018-07       40000.000000  30000.000000\n",
       "2018-08       31000.000000  20000.000000\n",
       "2018-09       42750.000000  33475.000000\n",
       "2018-10       41191.836735  21945.454545"
      ]
     },
     "execution_count": 110,
     "metadata": {},
     "output_type": "execute_result"
    }
   ],
   "source": [
    "pd.crosstab(index=df_detergent['time_update'].dt.to_period('M'),\n",
    "            columns=[df_detergent['sub_category'], df_online['scale']],\n",
    "            values=df_detergent['price_original'],\n",
    "            aggfunc='mean')"
   ]
  },
  {
   "cell_type": "markdown",
   "id": "f1cdf8ee",
   "metadata": {},
   "source": [
    "#4. Using techcrunch.csv, which category raised the most amount in funding (raisedAmt) on average (use the median)?"
   ]
  },
  {
   "cell_type": "code",
   "execution_count": 111,
   "id": "4fd63ced",
   "metadata": {},
   "outputs": [],
   "source": [
    "df_techcrunch = pd.read_csv('data_input/techcrunch.csv', index_col=0)"
   ]
  },
  {
   "cell_type": "code",
   "execution_count": 112,
   "id": "65f9599e",
   "metadata": {
    "scrolled": true
   },
   "outputs": [
    {
     "data": {
      "text/html": [
       "<div>\n",
       "<style scoped>\n",
       "    .dataframe tbody tr th:only-of-type {\n",
       "        vertical-align: middle;\n",
       "    }\n",
       "\n",
       "    .dataframe tbody tr th {\n",
       "        vertical-align: top;\n",
       "    }\n",
       "\n",
       "    .dataframe thead th {\n",
       "        text-align: right;\n",
       "    }\n",
       "</style>\n",
       "<table border=\"1\" class=\"dataframe\">\n",
       "  <thead>\n",
       "    <tr style=\"text-align: right;\">\n",
       "      <th>col_0</th>\n",
       "      <th>average</th>\n",
       "    </tr>\n",
       "    <tr>\n",
       "      <th>category</th>\n",
       "      <th></th>\n",
       "    </tr>\n",
       "  </thead>\n",
       "  <tbody>\n",
       "    <tr>\n",
       "      <th>biotech</th>\n",
       "      <td>20000000</td>\n",
       "    </tr>\n",
       "  </tbody>\n",
       "</table>\n",
       "</div>"
      ],
      "text/plain": [
       "col_0      average\n",
       "category          \n",
       "biotech   20000000"
      ]
     },
     "execution_count": 112,
     "metadata": {},
     "output_type": "execute_result"
    }
   ],
   "source": [
    "pd.crosstab(index=df_techcrunch['category'], \n",
    "            columns='average', \n",
    "            values=df_techcrunch['raisedAmt'], \n",
    "            aggfunc='median').sort_values(by='average', ascending=False).head(1)"
   ]
  },
  {
   "cell_type": "markdown",
   "id": "d5dc6ba5",
   "metadata": {},
   "source": [
    "#5. In which period does Friendster gain their highest raised amount of funding?"
   ]
  },
  {
   "cell_type": "code",
   "execution_count": 113,
   "id": "1f3fa922",
   "metadata": {},
   "outputs": [
    {
     "data": {
      "text/html": [
       "<div>\n",
       "<style scoped>\n",
       "    .dataframe tbody tr th:only-of-type {\n",
       "        vertical-align: middle;\n",
       "    }\n",
       "\n",
       "    .dataframe tbody tr th {\n",
       "        vertical-align: top;\n",
       "    }\n",
       "\n",
       "    .dataframe thead th {\n",
       "        text-align: right;\n",
       "    }\n",
       "</style>\n",
       "<table border=\"1\" class=\"dataframe\">\n",
       "  <thead>\n",
       "    <tr style=\"text-align: right;\">\n",
       "      <th></th>\n",
       "      <th>company</th>\n",
       "      <th>numEmps</th>\n",
       "      <th>category</th>\n",
       "      <th>city</th>\n",
       "      <th>state</th>\n",
       "      <th>fundedDate</th>\n",
       "      <th>raisedAmt</th>\n",
       "      <th>raisedCurrency</th>\n",
       "      <th>round</th>\n",
       "    </tr>\n",
       "    <tr>\n",
       "      <th>permalink</th>\n",
       "      <th></th>\n",
       "      <th></th>\n",
       "      <th></th>\n",
       "      <th></th>\n",
       "      <th></th>\n",
       "      <th></th>\n",
       "      <th></th>\n",
       "      <th></th>\n",
       "      <th></th>\n",
       "    </tr>\n",
       "  </thead>\n",
       "  <tbody>\n",
       "    <tr>\n",
       "      <th>friendster</th>\n",
       "      <td>Friendster</td>\n",
       "      <td>465.0</td>\n",
       "      <td>web</td>\n",
       "      <td>San Francisco</td>\n",
       "      <td>CA</td>\n",
       "      <td>5-Aug-08</td>\n",
       "      <td>20000000</td>\n",
       "      <td>USD</td>\n",
       "      <td>d</td>\n",
       "    </tr>\n",
       "  </tbody>\n",
       "</table>\n",
       "</div>"
      ],
      "text/plain": [
       "               company  numEmps category           city state fundedDate  \\\n",
       "permalink                                                                  \n",
       "friendster  Friendster    465.0      web  San Francisco    CA   5-Aug-08   \n",
       "\n",
       "            raisedAmt raisedCurrency round  \n",
       "permalink                                   \n",
       "friendster   20000000            USD     d  "
      ]
     },
     "execution_count": 113,
     "metadata": {},
     "output_type": "execute_result"
    }
   ],
   "source": [
    "df_techcrunch[(df_techcrunch['company']=='Friendster')].sort_values(by='raisedAmt', ascending=False).head(1)"
   ]
  },
  {
   "cell_type": "markdown",
   "id": "f9f87892",
   "metadata": {},
   "source": [
    "#6. Among all companies in San Francisco, which of the following are not among the top 5 most funded ( has highest total raisedAmt) companies?"
   ]
  },
  {
   "cell_type": "code",
   "execution_count": 114,
   "id": "59297476",
   "metadata": {},
   "outputs": [
    {
     "data": {
      "text/html": [
       "<div>\n",
       "<style scoped>\n",
       "    .dataframe tbody tr th:only-of-type {\n",
       "        vertical-align: middle;\n",
       "    }\n",
       "\n",
       "    .dataframe tbody tr th {\n",
       "        vertical-align: top;\n",
       "    }\n",
       "\n",
       "    .dataframe thead th {\n",
       "        text-align: right;\n",
       "    }\n",
       "</style>\n",
       "<table border=\"1\" class=\"dataframe\">\n",
       "  <thead>\n",
       "    <tr style=\"text-align: right;\">\n",
       "      <th>col_0</th>\n",
       "      <th>sumtotal</th>\n",
       "    </tr>\n",
       "    <tr>\n",
       "      <th>company</th>\n",
       "      <th></th>\n",
       "    </tr>\n",
       "  </thead>\n",
       "  <tbody>\n",
       "    <tr>\n",
       "      <th>Slide</th>\n",
       "      <td>58000000</td>\n",
       "    </tr>\n",
       "    <tr>\n",
       "      <th>freebase</th>\n",
       "      <td>57500000</td>\n",
       "    </tr>\n",
       "    <tr>\n",
       "      <th>OpenTable</th>\n",
       "      <td>48000000</td>\n",
       "    </tr>\n",
       "    <tr>\n",
       "      <th>Friendster</th>\n",
       "      <td>45400000</td>\n",
       "    </tr>\n",
       "    <tr>\n",
       "      <th>Snapfish</th>\n",
       "      <td>43500000</td>\n",
       "    </tr>\n",
       "  </tbody>\n",
       "</table>\n",
       "</div>"
      ],
      "text/plain": [
       "col_0       sumtotal\n",
       "company             \n",
       "Slide       58000000\n",
       "freebase    57500000\n",
       "OpenTable   48000000\n",
       "Friendster  45400000\n",
       "Snapfish    43500000"
      ]
     },
     "execution_count": 114,
     "metadata": {},
     "output_type": "execute_result"
    }
   ],
   "source": [
    "df_techcrunch = df_techcrunch[(df_techcrunch['city']=='San Francisco')]\n",
    "\n",
    "pd.crosstab(index=df_techcrunch['company'], \n",
    "            columns='sumtotal', \n",
    "            values=df_techcrunch['raisedAmt'],\n",
    "            aggfunc='sum').sort_values(by='sumtotal', ascending=False).head()"
   ]
  }
 ],
 "metadata": {
  "kernelspec": {
   "display_name": "algoritma_olympus",
   "language": "python",
   "name": "algoritma_olympus"
  },
  "language_info": {
   "codemirror_mode": {
    "name": "ipython",
    "version": 3
   },
   "file_extension": ".py",
   "mimetype": "text/x-python",
   "name": "python",
   "nbconvert_exporter": "python",
   "pygments_lexer": "ipython3",
   "version": "3.8.8"
  }
 },
 "nbformat": 4,
 "nbformat_minor": 5
}
