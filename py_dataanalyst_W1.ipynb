{
 "cells": [
  {
   "cell_type": "markdown",
   "id": "576cbad9",
   "metadata": {},
   "source": [
    "1. Create a new column in the DataFrame and name it Total Sales. This column is a sum of Consulting Sales and Software Sales. Use head or tail to peek at the resulting data frame to confirm that the output matches your expectation. What is the sum of the Total Sales column?"
   ]
  },
  {
   "cell_type": "code",
   "execution_count": 95,
   "id": "d5f76046",
   "metadata": {
    "scrolled": true
   },
   "outputs": [
    {
     "name": "stdout",
     "output_type": "stream",
     "text": [
      "19238903\n"
     ]
    }
   ],
   "source": [
    "import pandas as pd\n",
    "\n",
    "dfCompa = pd.read_csv(\"data_input/companies.csv\", index_col=0)\n",
    "#dfCompa.head()\n",
    "#dfCompa.dtypes\n",
    "\n",
    "dfCompa[\"Total Sales\"] = dfCompa[\"Consulting Sales\"] + dfCompa[\"Software Sales\"]\n",
    "itotal_sales = dfCompa[\"Total Sales\"].sum()\n",
    "\n",
    "print(total_sales)"
   ]
  },
  {
   "cell_type": "markdown",
   "id": "af5a7e70",
   "metadata": {},
   "source": [
    "2. Which company has the biggest Total Sales in 2017?"
   ]
  },
  {
   "cell_type": "code",
   "execution_count": 114,
   "id": "3731b680",
   "metadata": {},
   "outputs": [
    {
     "data": {
      "text/html": [
       "<div>\n",
       "<style scoped>\n",
       "    .dataframe tbody tr th:only-of-type {\n",
       "        vertical-align: middle;\n",
       "    }\n",
       "\n",
       "    .dataframe tbody tr th {\n",
       "        vertical-align: top;\n",
       "    }\n",
       "\n",
       "    .dataframe thead th {\n",
       "        text-align: right;\n",
       "    }\n",
       "</style>\n",
       "<table border=\"1\" class=\"dataframe\">\n",
       "  <thead>\n",
       "    <tr style=\"text-align: right;\">\n",
       "      <th></th>\n",
       "      <th>Customer Name</th>\n",
       "      <th>Consulting Sales</th>\n",
       "      <th>Software Sales</th>\n",
       "      <th>Forecasted Growth</th>\n",
       "      <th>Returns</th>\n",
       "      <th>Month</th>\n",
       "      <th>Day</th>\n",
       "      <th>Year</th>\n",
       "      <th>Location</th>\n",
       "      <th>Account</th>\n",
       "      <th>Total Sales</th>\n",
       "    </tr>\n",
       "    <tr>\n",
       "      <th>ID</th>\n",
       "      <th></th>\n",
       "      <th></th>\n",
       "      <th></th>\n",
       "      <th></th>\n",
       "      <th></th>\n",
       "      <th></th>\n",
       "      <th></th>\n",
       "      <th></th>\n",
       "      <th></th>\n",
       "      <th></th>\n",
       "      <th></th>\n",
       "    </tr>\n",
       "  </thead>\n",
       "  <tbody>\n",
       "    <tr>\n",
       "      <th>30940</th>\n",
       "      <td>New Media Group</td>\n",
       "      <td>7125000</td>\n",
       "      <td>5500000</td>\n",
       "      <td>30.00%</td>\n",
       "      <td>IDR1,500,000</td>\n",
       "      <td>1</td>\n",
       "      <td>10</td>\n",
       "      <td>2017</td>\n",
       "      <td>Jakarta</td>\n",
       "      <td>Enterprise</td>\n",
       "      <td>12625000</td>\n",
       "    </tr>\n",
       "  </tbody>\n",
       "</table>\n",
       "</div>"
      ],
      "text/plain": [
       "         Customer Name  Consulting Sales  ...     Account Total Sales\n",
       "ID                                        ...                        \n",
       "30940  New Media Group           7125000  ...  Enterprise    12625000\n",
       "\n",
       "[1 rows x 11 columns]"
      ]
     },
     "execution_count": 114,
     "metadata": {},
     "output_type": "execute_result"
    }
   ],
   "source": [
    "dfCompa[(dfCompa['Total Sales'] == (dfCompa[dfCompa[\"Year\"] == 2017][\"Total Sales\"].max()))].head()\n"
   ]
  },
  {
   "cell_type": "markdown",
   "id": "cb23c6d0",
   "metadata": {},
   "source": [
    "3. Which are the two companies that has sales exceeding 1,500,000 IDR in the sampled data frame?"
   ]
  },
  {
   "cell_type": "code",
   "execution_count": 116,
   "id": "7df18028",
   "metadata": {},
   "outputs": [
    {
     "data": {
      "text/html": [
       "<div>\n",
       "<style scoped>\n",
       "    .dataframe tbody tr th:only-of-type {\n",
       "        vertical-align: middle;\n",
       "    }\n",
       "\n",
       "    .dataframe tbody tr th {\n",
       "        vertical-align: top;\n",
       "    }\n",
       "\n",
       "    .dataframe thead th {\n",
       "        text-align: right;\n",
       "    }\n",
       "</style>\n",
       "<table border=\"1\" class=\"dataframe\">\n",
       "  <thead>\n",
       "    <tr style=\"text-align: right;\">\n",
       "      <th></th>\n",
       "      <th>Customer Name</th>\n",
       "      <th>Consulting Sales</th>\n",
       "      <th>Software Sales</th>\n",
       "      <th>Forecasted Growth</th>\n",
       "      <th>Returns</th>\n",
       "      <th>Month</th>\n",
       "      <th>Day</th>\n",
       "      <th>Year</th>\n",
       "      <th>Location</th>\n",
       "      <th>Account</th>\n",
       "      <th>Total Sales</th>\n",
       "    </tr>\n",
       "    <tr>\n",
       "      <th>ID</th>\n",
       "      <th></th>\n",
       "      <th></th>\n",
       "      <th></th>\n",
       "      <th></th>\n",
       "      <th></th>\n",
       "      <th></th>\n",
       "      <th></th>\n",
       "      <th></th>\n",
       "      <th></th>\n",
       "      <th></th>\n",
       "      <th></th>\n",
       "    </tr>\n",
       "  </thead>\n",
       "  <tbody>\n",
       "    <tr>\n",
       "      <th>30940</th>\n",
       "      <td>New Media Group</td>\n",
       "      <td>7125000</td>\n",
       "      <td>5500000</td>\n",
       "      <td>30.00%</td>\n",
       "      <td>IDR1,500,000</td>\n",
       "      <td>1</td>\n",
       "      <td>10</td>\n",
       "      <td>2017</td>\n",
       "      <td>Jakarta</td>\n",
       "      <td>Enterprise</td>\n",
       "      <td>12625000</td>\n",
       "    </tr>\n",
       "    <tr>\n",
       "      <th>19002</th>\n",
       "      <td>Palembang Konsultansi</td>\n",
       "      <td>2115000</td>\n",
       "      <td>0</td>\n",
       "      <td>-15.00%</td>\n",
       "      <td>0</td>\n",
       "      <td>2</td>\n",
       "      <td>24</td>\n",
       "      <td>2018</td>\n",
       "      <td>Bandung</td>\n",
       "      <td>Startup</td>\n",
       "      <td>2115000</td>\n",
       "    </tr>\n",
       "  </tbody>\n",
       "</table>\n",
       "</div>"
      ],
      "text/plain": [
       "               Customer Name  Consulting Sales  ...     Account Total Sales\n",
       "ID                                              ...                        \n",
       "30940        New Media Group           7125000  ...  Enterprise    12625000\n",
       "19002  Palembang Konsultansi           2115000  ...     Startup     2115000\n",
       "\n",
       "[2 rows x 11 columns]"
      ]
     },
     "execution_count": 116,
     "metadata": {},
     "output_type": "execute_result"
    }
   ],
   "source": [
    "dfCompa[(dfCompa['Total Sales'] > 1500000)]"
   ]
  },
  {
   "cell_type": "markdown",
   "id": "52513cd1",
   "metadata": {},
   "source": [
    "4. The simplest way to ignore the outliers of sample data and find its central value is by using median instead of mean. By ignoring the outliers of Total Sales, what is its central value?"
   ]
  },
  {
   "cell_type": "code",
   "execution_count": 118,
   "id": "eceb548d",
   "metadata": {
    "scrolled": true
   },
   "outputs": [
    {
     "data": {
      "text/plain": [
       "1354250.0"
      ]
     },
     "execution_count": 118,
     "metadata": {},
     "output_type": "execute_result"
    }
   ],
   "source": [
    "dfCompa['Total Sales'].median()"
   ]
  },
  {
   "cell_type": "markdown",
   "id": "57e91478",
   "metadata": {},
   "source": [
    "5. If we want to perform subsetting on clients by explicitly stating the ID, which subsetting method is more appropriate?"
   ]
  },
  {
   "cell_type": "code",
   "execution_count": 122,
   "id": "24b71ffe",
   "metadata": {},
   "outputs": [
    {
     "data": {
      "text/plain": [
       "Customer Name        Palembang Konsultansi\n",
       "Consulting Sales                   2115000\n",
       "Software Sales                           0\n",
       "Forecasted Growth                  -15.00%\n",
       "Returns                                  0\n",
       "Month                                    2\n",
       "Day                                     24\n",
       "Year                                  2018\n",
       "Location                           Bandung\n",
       "Account                            Startup\n",
       "Total Sales                        2115000\n",
       "Name: 19002, dtype: object"
      ]
     },
     "execution_count": 122,
     "metadata": {},
     "output_type": "execute_result"
    }
   ],
   "source": [
    "dfCompa.loc[19002,:]"
   ]
  },
  {
   "cell_type": "markdown",
   "id": "359f5b2e",
   "metadata": {},
   "source": [
    "6. Say, we need to find clients of Enterprise account which specifically located in Jakarta. Try to fill in the blank codes to perform the right conditional subsetting: clients[________ _ ________]:"
   ]
  },
  {
   "cell_type": "code",
   "execution_count": 125,
   "id": "d1cd28a3",
   "metadata": {},
   "outputs": [
    {
     "data": {
      "text/html": [
       "<div>\n",
       "<style scoped>\n",
       "    .dataframe tbody tr th:only-of-type {\n",
       "        vertical-align: middle;\n",
       "    }\n",
       "\n",
       "    .dataframe tbody tr th {\n",
       "        vertical-align: top;\n",
       "    }\n",
       "\n",
       "    .dataframe thead th {\n",
       "        text-align: right;\n",
       "    }\n",
       "</style>\n",
       "<table border=\"1\" class=\"dataframe\">\n",
       "  <thead>\n",
       "    <tr style=\"text-align: right;\">\n",
       "      <th></th>\n",
       "      <th>Customer Name</th>\n",
       "      <th>Consulting Sales</th>\n",
       "      <th>Software Sales</th>\n",
       "      <th>Forecasted Growth</th>\n",
       "      <th>Returns</th>\n",
       "      <th>Month</th>\n",
       "      <th>Day</th>\n",
       "      <th>Year</th>\n",
       "      <th>Location</th>\n",
       "      <th>Account</th>\n",
       "      <th>Total Sales</th>\n",
       "    </tr>\n",
       "    <tr>\n",
       "      <th>ID</th>\n",
       "      <th></th>\n",
       "      <th></th>\n",
       "      <th></th>\n",
       "      <th></th>\n",
       "      <th></th>\n",
       "      <th></th>\n",
       "      <th></th>\n",
       "      <th></th>\n",
       "      <th></th>\n",
       "      <th></th>\n",
       "      <th></th>\n",
       "    </tr>\n",
       "  </thead>\n",
       "  <tbody>\n",
       "    <tr>\n",
       "      <th>30940</th>\n",
       "      <td>New Media Group</td>\n",
       "      <td>7125000</td>\n",
       "      <td>5500000</td>\n",
       "      <td>30.00%</td>\n",
       "      <td>IDR1,500,000</td>\n",
       "      <td>1</td>\n",
       "      <td>10</td>\n",
       "      <td>2017</td>\n",
       "      <td>Jakarta</td>\n",
       "      <td>Enterprise</td>\n",
       "      <td>12625000</td>\n",
       "    </tr>\n",
       "    <tr>\n",
       "      <th>31142</th>\n",
       "      <td>PT. Surya Citra Manajemen</td>\n",
       "      <td>960000</td>\n",
       "      <td>503000</td>\n",
       "      <td>19.00%</td>\n",
       "      <td>0</td>\n",
       "      <td>1</td>\n",
       "      <td>19</td>\n",
       "      <td>2019</td>\n",
       "      <td>Jakarta</td>\n",
       "      <td>Enterprise</td>\n",
       "      <td>1463000</td>\n",
       "    </tr>\n",
       "  </tbody>\n",
       "</table>\n",
       "</div>"
      ],
      "text/plain": [
       "                   Customer Name  Consulting Sales  ...     Account Total Sales\n",
       "ID                                                  ...                        \n",
       "30940            New Media Group           7125000  ...  Enterprise    12625000\n",
       "31142  PT. Surya Citra Manajemen            960000  ...  Enterprise     1463000\n",
       "\n",
       "[2 rows x 11 columns]"
      ]
     },
     "execution_count": 125,
     "metadata": {},
     "output_type": "execute_result"
    }
   ],
   "source": [
    "dfCompa[(dfCompa['Location']=='Jakarta') & (dfCompa['Account']=='Enterprise')]"
   ]
  }
 ],
 "metadata": {
  "kernelspec": {
   "display_name": "algoritma_olympus",
   "language": "python",
   "name": "algoritma_olympus"
  },
  "language_info": {
   "codemirror_mode": {
    "name": "ipython",
    "version": 3
   },
   "file_extension": ".py",
   "mimetype": "text/x-python",
   "name": "python",
   "nbconvert_exporter": "python",
   "pygments_lexer": "ipython3",
   "version": "3.8.8"
  }
 },
 "nbformat": 4,
 "nbformat_minor": 5
}
